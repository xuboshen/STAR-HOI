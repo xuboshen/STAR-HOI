{
 "cells": [
  {
   "cell_type": "code",
   "execution_count": null,
   "metadata": {},
   "outputs": [],
   "source": [
    "# Copyright (c) Meta Platforms, Inc. and affiliates."
   ]
  },
  {
   "cell_type": "markdown",
   "metadata": {},
   "source": [
    "# Segment Anything Video (SA-V) Dataset"
   ]
  },
  {
   "cell_type": "markdown",
   "metadata": {},
   "source": [
    "This notebook presents an example showing how to load and visualize the SA-V annotations.\n",
    "To run this notebook, you will need to have the following installed:\n",
    "- jupyter\n",
    "- matplotlib\n",
    "- opencv-python\n",
    "- numpy\n",
    "- pycocoevalcap\n",
    "- pandas"
   ]
  },
  {
   "cell_type": "markdown",
   "metadata": {},
   "source": [
    "## Import libaries"
   ]
  },
  {
   "cell_type": "code",
   "execution_count": null,
   "metadata": {},
   "outputs": [],
   "source": [
    "import json\n",
    "\n",
    "import pandas as pd\n",
    "from utils.sav_utils import SAVDataset"
   ]
  },
  {
   "cell_type": "markdown",
   "metadata": {},
   "source": [
    "## Example video and annotations from SA-V"
   ]
  },
  {
   "cell_type": "code",
   "execution_count": null,
   "metadata": {},
   "outputs": [],
   "source": [
    "sav_dataset = SAVDataset(sav_dir=\"example/\")\n",
    "frames, manual_annot, auto_annot = sav_dataset.get_frames_and_annotations(\"sav_000001\")"
   ]
  },
  {
   "cell_type": "markdown",
   "metadata": {},
   "source": [
    "### Show the SA-V annotations in frame 0 - auto + manual"
   ]
  },
  {
   "cell_type": "code",
   "execution_count": null,
   "metadata": {},
   "outputs": [],
   "source": [
    "sav_dataset.visualize_annotation(\n",
    "    frames, manual_annot, auto_annot, \n",
    "    annotated_frame_id=0,\n",
    ")"
   ]
  },
  {
   "cell_type": "markdown",
   "metadata": {},
   "source": [
    "### Show the SA-V annotations in another frame - auto + manual"
   ]
  },
  {
   "cell_type": "code",
   "execution_count": null,
   "metadata": {},
   "outputs": [],
   "source": [
    "sav_dataset.visualize_annotation(\n",
    "    frames, manual_annot, auto_annot, \n",
    "    annotated_frame_id=30,\n",
    ")"
   ]
  },
  {
   "cell_type": "markdown",
   "metadata": {},
   "source": [
    "### Show the SA-V annotations in frame 0 - manual only"
   ]
  },
  {
   "cell_type": "code",
   "execution_count": null,
   "metadata": {},
   "outputs": [],
   "source": [
    "sav_dataset.visualize_annotation(\n",
    "    frames, manual_annot, auto_annot,\n",
    "    annotated_frame_id=0,\n",
    "    show_auto=False,\n",
    ")"
   ]
  },
  {
   "cell_type": "markdown",
   "metadata": {},
   "source": [
    "### Show the SA-V annotations in frame 0 - auto only"
   ]
  },
  {
   "cell_type": "code",
   "execution_count": null,
   "metadata": {},
   "outputs": [],
   "source": [
    "sav_dataset.visualize_annotation(\n",
    "    frames, manual_annot, auto_annot,\n",
    "    annotated_frame_id=0,\n",
    "    show_manual=False,\n",
    ")"
   ]
  },
  {
   "cell_type": "markdown",
   "metadata": {},
   "source": [
    "### Masklet annotations and Metadata"
   ]
  },
  {
   "cell_type": "markdown",
   "metadata": {},
   "source": [
    "#### Manual annotations and metadata"
   ]
  },
  {
   "cell_type": "code",
   "execution_count": null,
   "metadata": {},
   "outputs": [],
   "source": [
    "pd.DataFrame([manual_annot])"
   ]
  },
  {
   "cell_type": "markdown",
   "metadata": {},
   "source": [
    "#### Auto annotations and metadata"
   ]
  },
  {
   "cell_type": "code",
   "execution_count": null,
   "metadata": {},
   "outputs": [],
   "source": [
    "pd.DataFrame([auto_annot])"
   ]
  },
  {
   "cell_type": "markdown",
   "metadata": {},
   "source": [
    "#### Video info"
   ]
  },
  {
   "cell_type": "code",
   "execution_count": null,
   "metadata": {},
   "outputs": [],
   "source": [
    "video_id = manual_annot[\"video_id\"]\n",
    "video_duration = manual_annot[\"video_duration\"]\n",
    "video_frame_count = manual_annot[\"video_frame_count\"]\n",
    "H = manual_annot[\"video_height\"]\n",
    "W = manual_annot[\"video_width\"]\n",
    "environment = manual_annot[\"video_environment\"]\n",
    "print(\n",
    "    f\"{video_id} is {video_duration} seconds long with {video_frame_count} frames. The video resolution is {H} x {W}.\"\n",
    ")\n",
    "print(f\"This video is captured in {environment} environment.\")"
   ]
  },
  {
   "cell_type": "markdown",
   "metadata": {},
   "source": [
    "#### Masklet info"
   ]
  },
  {
   "cell_type": "code",
   "execution_count": null,
   "metadata": {},
   "outputs": [],
   "source": [
    "print(\n",
    "    f\"There are {manual_annot['masklet_num']} manually labeled masklets and {auto_annot['masklet_num']} automatically generated masklets.\"\n",
    ")\n",
    "print(\n",
    "    f\"In SA-V, videos are annotated every 4 frames. Therefore, there are {manual_annot['masklet_frame_count'][0]} frames being annotated.\"\n",
    ")"
   ]
  },
  {
   "cell_type": "code",
   "execution_count": null,
   "metadata": {},
   "outputs": [],
   "source": [
    "# Get the rle of the manual masklet with masklet_id=0 in frame 0\n",
    "masklet_id = 0\n",
    "annotated_frame_id = 0\n",
    "manual_annot[\"masklet\"][annotated_frame_id][masklet_id]\n",
    "# decode the rle using `mask_util.decode(rle)>0` to get the binary segmentation mask"
   ]
  },
  {
   "cell_type": "code",
   "execution_count": null,
   "metadata": {},
   "outputs": [],
   "source": [
    "# Get the rle of the masklet with masklet_id=5 in frame 100\n",
    "masklet_id = 5\n",
    "annotated_frame_id = 100\n",
    "auto_annot[\"masklet\"][annotated_frame_id][masklet_id]\n",
    "# decode the rle using `mask_util.decode(rle)>0` to get the binary segmentation mask"
   ]
  },
  {
   "cell_type": "code",
   "execution_count": null,
   "metadata": {},
   "outputs": [],
   "source": []
  }
 ],
 "metadata": {
  "kernelspec": {
   "display_name": "onevision_ta_2_pseudo_labeling",
   "language": "python",
   "name": "python3"
  },
  "language_info": {
   "codemirror_mode": {
    "name": "ipython",
    "version": 3
   },
   "file_extension": ".py",
   "mimetype": "text/x-python",
   "name": "python",
   "nbconvert_exporter": "python",
   "pygments_lexer": "ipython3",
   "version": "3.10.12"
  }
 },
 "nbformat": 4,
 "nbformat_minor": 2
}
